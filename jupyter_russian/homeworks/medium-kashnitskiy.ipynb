{
 "cells": [
  {
   "cell_type": "markdown",
   "metadata": {
    "_cell_guid": "20ff96c2-6e8f-474a-86a5-b762b7876b1c",
    "_uuid": "3cc7d9de4da8f868d983ec69b37546c51d68f407"
   },
   "source": [
    "Here we use a simple linear model and article content with `CountVectorizer`."
   ]
  },
  {
   "cell_type": "markdown",
   "metadata": {
    "_cell_guid": "10375e63-c7e4-4384-9521-1c5f20906eae",
    "_uuid": "889e971a7c32a4ac1dbc4ef55df672ab0f1ac9be"
   },
   "source": [
    "Import libraries."
   ]
  },
  {
   "cell_type": "code",
   "execution_count": 41,
   "metadata": {
    "_cell_guid": "475f15a1-214d-4b48-b315-cdfa71c20c50",
    "_uuid": "7e5b949eafbf62826c6f02c39fdb55178d66fabd"
   },
   "outputs": [],
   "source": [
    "import os\n",
    "import numpy as np\n",
    "import pandas as pd\n",
    "from matplotlib import pyplot as plt\n",
    "%matplotlib inline\n",
    "import json\n",
    "from tqdm import tqdm_notebook\n",
    "from sklearn.feature_extraction.text import CountVectorizer, TfidfVectorizer\n",
    "from sklearn.metrics import mean_absolute_error\n",
    "from nltk.corpus import stopwords\n",
    "from nltk.tokenize.treebank import TreebankWordTokenizer\n",
    "from nltk.tokenize import word_tokenize"
   ]
  },
  {
   "cell_type": "markdown",
   "metadata": {
    "_cell_guid": "2c1f42b4-423a-4ea6-a3a8-e783d1e10fda",
    "_uuid": "cf2daf1d4628d1f996e5c6180d3ee49bdbc8488f"
   },
   "source": [
    "The following code will help to throw away all HTML tags from an article content."
   ]
  },
  {
   "cell_type": "code",
   "execution_count": 2,
   "metadata": {
    "_cell_guid": "37ad2332-3111-4983-a6aa-0961aeb6ae02",
    "_uuid": "e64bf63dbe42583a5080d31e19d7d283a6bc0c68"
   },
   "outputs": [],
   "source": [
    "from html.parser import HTMLParser\n",
    "\n",
    "class MLStripper(HTMLParser):\n",
    "    def __init__(self):\n",
    "        self.reset()\n",
    "        self.strict = False\n",
    "        self.convert_charrefs= True\n",
    "        self.fed = []\n",
    "    def handle_data(self, d):\n",
    "        self.fed.append(d)\n",
    "    def get_data(self):\n",
    "        return ''.join(self.fed)\n",
    "\n",
    "def strip_tags(html):\n",
    "    s = MLStripper()\n",
    "    s.feed(html)\n",
    "    return s.get_data()"
   ]
  },
  {
   "cell_type": "code",
   "execution_count": 3,
   "metadata": {
    "_cell_guid": "9051d077-6739-4fe2-83a5-6628f4833cbf",
    "_uuid": "dfeac755772fd66636d84221a80501754fe3dfbf"
   },
   "outputs": [],
   "source": [
    "PATH_TO_DATA = '/Users/ilyas/Documents/Innopolis/AI_com/datasets/medium/'"
   ]
  },
  {
   "cell_type": "markdown",
   "metadata": {
    "_cell_guid": "60c7c92c-c387-4c1a-b272-fc36f85b0cef",
    "_uuid": "af961104abccccf1dff5638b7e97c474f56e51b8"
   },
   "source": [
    "Assume you have all data downloaded from competition's [page](https://www.kaggle.com/c/how-good-is-your-medium-article/data) in the PATH_TO_DATA folder and `.gz` files are ungzipped."
   ]
  },
  {
   "cell_type": "code",
   "execution_count": 4,
   "metadata": {
    "_cell_guid": "b6b85182-8ca8-4144-91ef-ceb472ce2518",
    "_uuid": "75ca681a11b040c9f5b3b38e37a9f99351ecf278"
   },
   "outputs": [
    {
     "name": "stdout",
     "output_type": "stream",
     "text": [
      "total 6338120\r\n",
      "-rw-r--r--@ 1 ilyas  staff      508683  1 апр 15:25 sample_submission.csv\r\n",
      "-rw-r--r--@ 1 ilyas  staff  1156020029  1 апр 15:28 test.json\r\n",
      "-rw-r--r--@ 1 ilyas  staff  2086185062  1 апр 15:29 train.json\r\n",
      "-rw-r--r--@ 1 ilyas  staff      912544  1 апр 15:25 train_log1p_recommends.csv\r\n"
     ]
    }
   ],
   "source": [
    "!ls -l $PATH_TO_DATA"
   ]
  },
  {
   "cell_type": "markdown",
   "metadata": {
    "_cell_guid": "8aa113b4-f062-46c2-ac90-c859a064226d",
    "_uuid": "5da5e0f993dc5bbd06d291c3fc1953aba470546e"
   },
   "source": [
    "Supplementary function to read a JSON line without crashing on escape characters. "
   ]
  },
  {
   "cell_type": "code",
   "execution_count": 5,
   "metadata": {
    "_cell_guid": "badfb2bc-1f36-4311-a6aa-6452380e7e40",
    "_uuid": "bc1b8f0ecfba589b0714b9014fac3329793a2421"
   },
   "outputs": [],
   "source": [
    "def read_json_line(line=None):\n",
    "    result = None\n",
    "    try:        \n",
    "        result = json.loads(line)\n",
    "    except Exception as e:      \n",
    "        # Find the offending character index:\n",
    "        idx_to_replace = int(str(e).split(' ')[-1].replace(')',''))      \n",
    "        # Remove the offending character:\n",
    "        new_line = list(line)\n",
    "        new_line[idx_to_replace] = ' '\n",
    "        new_line = ''.join(new_line)     \n",
    "        return read_json_line(line=new_line)\n",
    "    return result"
   ]
  },
  {
   "cell_type": "markdown",
   "metadata": {
    "_cell_guid": "4b78878e-b4f2-4a45-8be3-f789b3c3f221",
    "_uuid": "8ae68965cee9dfb58f88370e6a079ec4b2306e10"
   },
   "source": [
    "This function takes a JSON and forms a txt file leaving only article content. When you resort to feature engineering and extract various features from articles, a good idea is to modify this function."
   ]
  },
  {
   "cell_type": "code",
   "execution_count": 6,
   "metadata": {
    "_cell_guid": "324441ce-e666-44c4-838c-acd78f9bfcf5",
    "_uuid": "e0fe7f2fd52b8f91c95cfb78c2af9d8e520cdd60"
   },
   "outputs": [],
   "source": [
    "def preprocess(path_to_inp_json_file):\n",
    "    output_list = []\n",
    "    with open(path_to_inp_json_file, encoding='utf-8') as inp_file:\n",
    "        for line in tqdm_notebook(inp_file):\n",
    "            json_data = read_json_line(line)\n",
    "            content = json_data['content'].replace('\\n', ' ').replace('\\r', ' ')\n",
    "            content_no_html_tags = strip_tags(content)\n",
    "            output_list.append(content_no_html_tags)\n",
    "    return output_list"
   ]
  },
  {
   "cell_type": "code",
   "execution_count": 7,
   "metadata": {
    "_cell_guid": "e901af5c-6623-449e-bce1-6e274022460e",
    "_uuid": "589761bb5972c78dee2694e08d3b94d6666e2bb6"
   },
   "outputs": [
    {
     "data": {
      "application/vnd.jupyter.widget-view+json": {
       "model_id": "7a6026663c7442b28b3b65626ba47dad",
       "version_major": 2,
       "version_minor": 0
      },
      "text/html": [
       "<p>Failed to display Jupyter Widget of type <code>HBox</code>.</p>\n",
       "<p>\n",
       "  If you're reading this message in the Jupyter Notebook or JupyterLab Notebook, it may mean\n",
       "  that the widgets JavaScript is still loading. If this message persists, it\n",
       "  likely means that the widgets JavaScript library is either not installed or\n",
       "  not enabled. See the <a href=\"https://ipywidgets.readthedocs.io/en/stable/user_install.html\">Jupyter\n",
       "  Widgets Documentation</a> for setup instructions.\n",
       "</p>\n",
       "<p>\n",
       "  If you're reading this message in another frontend (for example, a static\n",
       "  rendering on GitHub or <a href=\"https://nbviewer.jupyter.org/\">NBViewer</a>),\n",
       "  it may mean that your frontend doesn't currently support widgets.\n",
       "</p>\n"
      ],
      "text/plain": [
       "HBox(children=(IntProgress(value=1, bar_style='info', max=1), HTML(value='')))"
      ]
     },
     "metadata": {},
     "output_type": "display_data"
    },
    {
     "name": "stdout",
     "output_type": "stream",
     "text": [
      "\n",
      "CPU times: user 5min 51s, sys: 6.87 s, total: 5min 57s\n",
      "Wall time: 6min 16s\n"
     ]
    }
   ],
   "source": [
    "%%time\n",
    "train_raw_content = preprocess(path_to_inp_json_file=os.path.join(PATH_TO_DATA, \n",
    "                                                                  'train.json'),)"
   ]
  },
  {
   "cell_type": "code",
   "execution_count": 8,
   "metadata": {
    "_cell_guid": "9d75d0f6-b866-4c4e-ba3f-edb1201cdadb",
    "_uuid": "9eb05d3d97036388da1e431683c7272c2c203fec"
   },
   "outputs": [
    {
     "data": {
      "application/vnd.jupyter.widget-view+json": {
       "model_id": "990b6234954b45899594572cdd88b840",
       "version_major": 2,
       "version_minor": 0
      },
      "text/html": [
       "<p>Failed to display Jupyter Widget of type <code>HBox</code>.</p>\n",
       "<p>\n",
       "  If you're reading this message in the Jupyter Notebook or JupyterLab Notebook, it may mean\n",
       "  that the widgets JavaScript is still loading. If this message persists, it\n",
       "  likely means that the widgets JavaScript library is either not installed or\n",
       "  not enabled. See the <a href=\"https://ipywidgets.readthedocs.io/en/stable/user_install.html\">Jupyter\n",
       "  Widgets Documentation</a> for setup instructions.\n",
       "</p>\n",
       "<p>\n",
       "  If you're reading this message in another frontend (for example, a static\n",
       "  rendering on GitHub or <a href=\"https://nbviewer.jupyter.org/\">NBViewer</a>),\n",
       "  it may mean that your frontend doesn't currently support widgets.\n",
       "</p>\n"
      ],
      "text/plain": [
       "HBox(children=(IntProgress(value=1, bar_style='info', max=1), HTML(value='')))"
      ]
     },
     "metadata": {},
     "output_type": "display_data"
    },
    {
     "name": "stdout",
     "output_type": "stream",
     "text": [
      "\n",
      "CPU times: user 3min 32s, sys: 5.06 s, total: 3min 38s\n",
      "Wall time: 3min 53s\n"
     ]
    }
   ],
   "source": [
    "%%time\n",
    "test_raw_content = preprocess(path_to_inp_json_file=os.path.join(PATH_TO_DATA, \n",
    "                                                                  'test.json'),)"
   ]
  },
  {
   "cell_type": "markdown",
   "metadata": {
    "_cell_guid": "25fef59c-d54f-411c-a9c7-4a675b29a989",
    "_uuid": "de8308666fe1f7e111edb7ae29a8ec5bafea84dd"
   },
   "source": [
    "We'll use a linear model (`Ridge`) with a very simple feature extractor – `CountVectorizer`, meaning that we resort to the Bag-of-Words approach. For now, we are leaving only 50k features. "
   ]
  },
  {
   "cell_type": "code",
   "execution_count": null,
   "metadata": {
    "_cell_guid": "39f25d08-a576-4535-8527-d25ddfedebd6",
    "_uuid": "51549a949259a1cc1330d513cbd3c60a8c5a371b"
   },
   "outputs": [],
   "source": [
    "eng_stopwords = stopwords.words('english')\n",
    "_treebank_word_tokenizer = TreebankWordTokenizer()\n",
    "cv = TfidfVectorizer(max_features=10000, stop_words=eng_stopwords, ngram_range=(1, 2))"
   ]
  },
  {
   "cell_type": "code",
   "execution_count": null,
   "metadata": {
    "_cell_guid": "05342073-facd-4b75-8e94-0f3ad63f79f3",
    "_uuid": "d96e23b597cdbcc1d13f4fa7b2051c4515b1c2b4"
   },
   "outputs": [],
   "source": [
    "%%time\n",
    "X_train = cv.fit_transform(train_raw_content)"
   ]
  },
  {
   "cell_type": "code",
   "execution_count": null,
   "metadata": {
    "_cell_guid": "370036a0-1b59-46d3-b1d2-ba6f22400e7a",
    "_uuid": "aa5f327814464d01eb6addefd13e510e28a0bb67"
   },
   "outputs": [],
   "source": [
    "%%time\n",
    "X_test = cv.transform(test_raw_content)"
   ]
  },
  {
   "cell_type": "code",
   "execution_count": null,
   "metadata": {
    "_cell_guid": "873abee7-442d-49df-931e-7e59d0c990b9",
    "_uuid": "fc837f60e80e595839ff1cb0b0e97bb7c8232f17"
   },
   "outputs": [],
   "source": [
    "X_train.shape, X_test.shape"
   ]
  },
  {
   "cell_type": "markdown",
   "metadata": {
    "_cell_guid": "9927589b-52e8-4779-88e9-0d68e06d5233",
    "_uuid": "bb2ce6a072594f15d0e6165f6dc1b95a16f2e282"
   },
   "source": [
    "Read targets from file."
   ]
  },
  {
   "cell_type": "code",
   "execution_count": 16,
   "metadata": {
    "_cell_guid": "4110961a-e9c7-49cb-8254-6a8ef3ebaf9d",
    "_uuid": "436102b8f71ce57efbe26a72ea32ae201629f8e0"
   },
   "outputs": [],
   "source": [
    "train_target = pd.read_csv(os.path.join(PATH_TO_DATA, 'train_log1p_recommends.csv'), \n",
    "                           index_col='id')"
   ]
  },
  {
   "cell_type": "code",
   "execution_count": 17,
   "metadata": {
    "_cell_guid": "98d188dc-a207-46a2-a895-739712c778cd",
    "_uuid": "7a4d7f5b14479c2de41641c985a23bd74c468b83"
   },
   "outputs": [
    {
     "data": {
      "text/plain": [
       "(62313, 1)"
      ]
     },
     "execution_count": 17,
     "metadata": {},
     "output_type": "execute_result"
    }
   ],
   "source": [
    "train_target.shape"
   ]
  },
  {
   "cell_type": "code",
   "execution_count": 18,
   "metadata": {
    "_cell_guid": "a7c8da46-715f-4b8b-bbc9-50b158aab78d",
    "_uuid": "5077b30518fea62218c98a3a02b14dcac19112ce"
   },
   "outputs": [],
   "source": [
    "y_train = train_target['log_recommends'].values"
   ]
  },
  {
   "cell_type": "markdown",
   "metadata": {
    "_cell_guid": "baca6a37-5b08-4a8c-b405-783a1ce13d34",
    "_uuid": "3404a2c96aada745215025eaf04e5c510098d2e8"
   },
   "source": [
    "Make a 30%-holdout set. "
   ]
  },
  {
   "cell_type": "code",
   "execution_count": 46,
   "metadata": {
    "_cell_guid": "819ccd8d-33c3-4714-8dbf-c886c019d2e2",
    "_uuid": "2958f3005056ce5d56911a5edc1d8486eba789a1"
   },
   "outputs": [],
   "source": [
    "train_part_size = int(0.7 * train_target.shape[0])\n",
    "X_train_part = X_train[:train_part_size, :]\n",
    "y_train_part = y_train[:train_part_size]\n",
    "X_valid =  X_train[train_part_size:, :]\n",
    "y_valid = y_train[train_part_size:]"
   ]
  },
  {
   "cell_type": "markdown",
   "metadata": {
    "_cell_guid": "49f43af6-0081-430c-ba4c-ed20e803553b",
    "_uuid": "3be18a01734b95c4ed79d45b8d60b04cd48a74e6"
   },
   "source": [
    "Now we are ready to fit a linear model."
   ]
  },
  {
   "cell_type": "code",
   "execution_count": 47,
   "metadata": {
    "_cell_guid": "14957c67-8989-44ce-b411-051bfe49e2be",
    "_uuid": "49f162fa4c0c775db9cc9491ccc935d992709abe"
   },
   "outputs": [],
   "source": [
    "from sklearn.linear_model import Ridge"
   ]
  },
  {
   "cell_type": "code",
   "execution_count": 48,
   "metadata": {
    "_cell_guid": "af0cf153-869a-44bc-90ab-d502f4d49dec",
    "_uuid": "63a64b164c1c323d9a71dd56beb5c55732a9df00"
   },
   "outputs": [],
   "source": [
    "ridge = Ridge(random_state=17)"
   ]
  },
  {
   "cell_type": "code",
   "execution_count": 49,
   "metadata": {
    "_cell_guid": "106400fa-4ca2-4eae-966f-0398f2fc3e2a",
    "_uuid": "9dab2f98d5caddda453f80e4d1be835d4c542f8a"
   },
   "outputs": [
    {
     "name": "stdout",
     "output_type": "stream",
     "text": [
      "CPU times: user 7.41 s, sys: 497 ms, total: 7.91 s\n",
      "Wall time: 8.31 s\n"
     ]
    },
    {
     "data": {
      "text/plain": [
       "Ridge(alpha=1.0, copy_X=True, fit_intercept=True, max_iter=None,\n",
       "   normalize=False, random_state=17, solver='auto', tol=0.001)"
      ]
     },
     "execution_count": 49,
     "metadata": {},
     "output_type": "execute_result"
    }
   ],
   "source": [
    "%%time\n",
    "ridge.fit(X_train_part, y_train_part);"
   ]
  },
  {
   "cell_type": "code",
   "execution_count": 50,
   "metadata": {
    "_cell_guid": "81d72242-e201-4a96-9572-6bf816d772ac",
    "_uuid": "95d7bf69d473fa33a5a688d3c22f14d0c1944cb7"
   },
   "outputs": [],
   "source": [
    "ridge_pred = ridge.predict(X_valid)"
   ]
  },
  {
   "cell_type": "markdown",
   "metadata": {
    "_cell_guid": "27841398-b988-4df1-8d5a-0d439fce7703",
    "_uuid": "21beec2c7186d8f6a93a0cdb3c95838d066292ec"
   },
   "source": [
    "Let's plot predictions and targets for the holdout set. Recall that these are #recommendations (= #claps) of Medium articles with the `np.log1p` transformation."
   ]
  },
  {
   "cell_type": "code",
   "execution_count": 51,
   "metadata": {
    "_cell_guid": "a2487849-80f2-4786-97aa-172ddf2782e5",
    "_uuid": "ae68ecea606621471e7bfed5a68448b43b676e2e"
   },
   "outputs": [
    {
     "data": {
      "image/png": "[encoded data removed]",
      "text/plain": [
       "<matplotlib.figure.Figure at 0x15a939c50>"
      ]
     },
     "metadata": {},
     "output_type": "display_data"
    }
   ],
   "source": [
    "plt.hist(y_valid, bins=30, alpha=.5, color='red', label='true', range=(0,10));\n",
    "plt.hist(ridge_pred, bins=30, alpha=.5, color='green', label='pred', range=(0,10));\n",
    "plt.legend();"
   ]
  },
  {
   "cell_type": "markdown",
   "metadata": {
    "_cell_guid": "ca0efa6a-ebca-4496-8a2e-0d99f97b2d00",
    "_uuid": "e1a7b075e9cc292e6e9772f5bbfcc90dfb9186b1"
   },
   "source": [
    "As we can see, the prediction is far from perfect, and we get MAE $\\approx$ 1.3 that corresponds to $\\approx$ 2.7 error in #recommendations.\n",
    "(1.2101571001650857, 2.354011526926494)"
   ]
  },
  {
   "cell_type": "code",
   "execution_count": 52,
   "metadata": {
    "_cell_guid": "58b14c8b-ba67-43b3-bb41-1fd3e1dd6071",
    "_uuid": "651bc8958bd1bd38a1c18c2444648e5e076e2cbf"
   },
   "outputs": [
    {
     "data": {
      "text/plain": [
       "(1.2101571001650857, 2.354011526926494)"
      ]
     },
     "execution_count": 52,
     "metadata": {},
     "output_type": "execute_result"
    }
   ],
   "source": [
    "valid_mae = mean_absolute_error(y_valid, ridge_pred)\n",
    "valid_mae, np.expm1(valid_mae)"
   ]
  },
  {
   "cell_type": "markdown",
   "metadata": {
    "_cell_guid": "e1253943-fcd1-4df9-b740-cf2cf719b8ba",
    "_uuid": "41bf4f23f385fa1f677394828578cf1994d2d0e0"
   },
   "source": [
    "Finally, train the model on the full accessible training set, make predictions for the test set and form a submission file. "
   ]
  },
  {
   "cell_type": "code",
   "execution_count": 53,
   "metadata": {
    "_cell_guid": "03ac15c3-7022-4156-ae35-e9cc38daffd4",
    "_uuid": "c0e28441751c62dd796b029c59dc3c88e6473c6c"
   },
   "outputs": [
    {
     "name": "stdout",
     "output_type": "stream",
     "text": [
      "CPU times: user 10.8 s, sys: 588 ms, total: 11.4 s\n",
      "Wall time: 11.7 s\n"
     ]
    },
    {
     "data": {
      "text/plain": [
       "Ridge(alpha=1.0, copy_X=True, fit_intercept=True, max_iter=None,\n",
       "   normalize=False, random_state=17, solver='auto', tol=0.001)"
      ]
     },
     "execution_count": 53,
     "metadata": {},
     "output_type": "execute_result"
    }
   ],
   "source": [
    "%%time\n",
    "ridge.fit(X_train, y_train);"
   ]
  },
  {
   "cell_type": "code",
   "execution_count": 54,
   "metadata": {
    "_cell_guid": "84871bdd-9acc-418c-9e14-ba773962fda2",
    "_uuid": "0d6c45e96e16ce82c18d02fec143c0470536792d"
   },
   "outputs": [
    {
     "name": "stdout",
     "output_type": "stream",
     "text": [
      "CPU times: user 84.4 ms, sys: 176 ms, total: 261 ms\n",
      "Wall time: 269 ms\n"
     ]
    }
   ],
   "source": [
    "%%time\n",
    "ridge_test_pred = ridge.predict(X_test)"
   ]
  },
  {
   "cell_type": "code",
   "execution_count": 57,
   "metadata": {
    "_cell_guid": "c9a2a2c7-e033-411e-921f-6ea814c0323e",
    "_uuid": "bdf4928c1ef8be25f50d4293849745353e4c5f90"
   },
   "outputs": [],
   "source": [
    "def write_submission_file(prediction, filename,\n",
    "    path_to_sample=os.path.join(PATH_TO_DATA, 'sample_submission.csv')):\n",
    "    submission = pd.read_csv(path_to_sample, index_col='id')\n",
    "    \n",
    "    submission['log_recommends'] = prediction\n",
    "    submission.to_csv(filename)"
   ]
  },
  {
   "cell_type": "code",
   "execution_count": 58,
   "metadata": {
    "_cell_guid": "feda5e9a-09d5-4c11-8c56-29c2e99c1ec2",
    "_uuid": "80583fd5a7aadc53a5fce658404719805908539b"
   },
   "outputs": [],
   "source": [
    "write_submission_file(prediction=ridge_test_pred, \n",
    "                      filename='first_ridge.csv')"
   ]
  },
  {
   "cell_type": "markdown",
   "metadata": {
    "_cell_guid": "cf4bd078-fc3e-4e16-bdb7-95b40957a012",
    "_uuid": "bdfada7d6b984b1c89c0b68d1b95a135cb93aa2f"
   },
   "source": [
    "With this, you'll get 1.91185 on [public leaderboard](https://www.kaggle.com/c/how-good-is-your-medium-article/leaderboard). This is much higher than our validation MAE. This indicates that the target distribution in test set somewhat differs from that of the training set (recent Medium articles are more popular). This shouldn't confuse us as long as we see a correlation between local improvements and improvements on the leaderboard. "
   ]
  },
  {
   "cell_type": "markdown",
   "metadata": {
    "_cell_guid": "03175b91-3aca-495d-a03d-e81b8b8819da",
    "_uuid": "3a4ec3a8d30a0ac0d5cfe27d911ee742fccecbf2"
   },
   "source": [
    "Some ideas for improvement:\n",
    "- Engineer good features, this is the key to success. Some simple features will be based on publication time, authors, content length and so on\n",
    "- You may not ignore HTML and extract some features from there\n",
    "- You'd better experiment with your validation scheme. You should see a correlation between your local improvements and LB score\n",
    "- Try TF-IDF, ngrams, Word2Vec and GloVe embeddings\n",
    "- Try various NLP techniques like stemming and lemmatization\n",
    "- Tune hyperparameters. In our example, we've left only 50k features and used `C`=1 as a regularization parameter, this can be changed \n",
    "- SGD and Vowpal Wabbit will learn much faster\n",
    "- In our course, we don't cover neural nets. But it's not obliged to use GRUs or LSTMs in this competition. "
   ]
  }
 ],
 "metadata": {
  "kernelspec": {
   "display_name": "Python 3",
   "language": "python",
   "name": "python3"
  },
  "language_info": {
   "codemirror_mode": {
    "name": "ipython",
    "version": 3
   },
   "file_extension": ".py",
   "mimetype": "text/x-python",
   "name": "python",
   "nbconvert_exporter": "python",
   "pygments_lexer": "ipython3",
   "version": "3.6.2"
  }
 },
 "nbformat": 4,
 "nbformat_minor": 1
}
